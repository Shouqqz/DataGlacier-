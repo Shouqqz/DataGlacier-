{
  "nbformat": 4,
  "nbformat_minor": 0,
  "metadata": {
    "colab": {
      "name": "EDA Notebook.ipynb",
      "provenance": []
    },
    "kernelspec": {
      "name": "python3",
      "display_name": "Python 3"
    },
    "language_info": {
      "name": "python"
    }
  },
  "cells": [
    {
      "cell_type": "code",
      "metadata": {
        "id": "9_7qyDLmW1mC"
      },
      "source": [
        ""
      ],
      "execution_count": 31,
      "outputs": []
    },
    {
      "cell_type": "code",
      "metadata": {
        "colab": {
          "base_uri": "https://localhost:8080/"
        },
        "id": "plu_v3AHZ6JP",
        "outputId": "fbde8f16-e160-43ee-ece2-8678cd9ff404"
      },
      "source": [
        "from google.colab import drive\n",
        "drive.mount('/content/drive')"
      ],
      "execution_count": 32,
      "outputs": [
        {
          "output_type": "stream",
          "text": [
            "Drive already mounted at /content/drive; to attempt to forcibly remount, call drive.mount(\"/content/drive\", force_remount=True).\n"
          ],
          "name": "stdout"
        }
      ]
    },
    {
      "cell_type": "code",
      "metadata": {
        "id": "yU2hNqHzbZEW"
      },
      "source": [
        "pip install -q keras"
      ],
      "execution_count": 33,
      "outputs": []
    },
    {
      "cell_type": "code",
      "metadata": {
        "id": "65URyHY5bp57"
      },
      "source": [
        "import keras"
      ],
      "execution_count": 34,
      "outputs": []
    },
    {
      "cell_type": "code",
      "metadata": {
        "id": "21zfxSUGb6it"
      },
      "source": [
        "import pandas as pd\n",
        "import numpy as np\n",
        "import matplotlib.pyplot as plt"
      ],
      "execution_count": 35,
      "outputs": []
    },
    {
      "cell_type": "markdown",
      "metadata": {
        "id": "De_Db3QJ63tU"
      },
      "source": [
        "**Upload and explore each DataSets**\n"
      ]
    },
    {
      "cell_type": "code",
      "metadata": {
        "id": "sWRs6dVgdWPH"
      },
      "source": [
        "df = pd.read_csv('/content/drive/MyDrive/Colab Notebooks/Cab_Data.csv') \n",
        "df1 = pd.read_csv('/content/drive/MyDrive/Colab Notebooks/City.csv')\n",
        "df2 = pd.read_csv('/content/drive/MyDrive/Colab Notebooks/Customer_ID.csv')\n",
        "df3= pd.read_csv('/content/drive/MyDrive/Colab Notebooks/Transaction_ID.csv')"
      ],
      "execution_count": 36,
      "outputs": []
    },
    {
      "cell_type": "code",
      "metadata": {
        "colab": {
          "base_uri": "https://localhost:8080/"
        },
        "id": "G7Pe7WkZA6tT",
        "outputId": "43e713db-de75-46d3-bcb1-732212d4dec5"
      },
      "source": [
        "df.shape\n"
      ],
      "execution_count": 99,
      "outputs": [
        {
          "output_type": "execute_result",
          "data": {
            "text/plain": [
              "(359392, 7)"
            ]
          },
          "metadata": {
            "tags": []
          },
          "execution_count": 99
        }
      ]
    },
    {
      "cell_type": "code",
      "metadata": {
        "colab": {
          "base_uri": "https://localhost:8080/"
        },
        "id": "XywU18cTCe-0",
        "outputId": "1eb6099a-c662-44fe-d990-85ce0ad810ff"
      },
      "source": [
        "df1.shape"
      ],
      "execution_count": 98,
      "outputs": [
        {
          "output_type": "execute_result",
          "data": {
            "text/plain": [
              "(20, 3)"
            ]
          },
          "metadata": {
            "tags": []
          },
          "execution_count": 98
        }
      ]
    },
    {
      "cell_type": "code",
      "metadata": {
        "colab": {
          "base_uri": "https://localhost:8080/"
        },
        "id": "X_oGQm6GCklE",
        "outputId": "eb138c4a-1890-45ed-f636-4e77726d6dc1"
      },
      "source": [
        "\n",
        "df2.shape\n"
      ],
      "execution_count": 97,
      "outputs": [
        {
          "output_type": "execute_result",
          "data": {
            "text/plain": [
              "(49171, 4)"
            ]
          },
          "metadata": {
            "tags": []
          },
          "execution_count": 97
        }
      ]
    },
    {
      "cell_type": "code",
      "metadata": {
        "colab": {
          "base_uri": "https://localhost:8080/"
        },
        "id": "kNgkWhi5Cnrx",
        "outputId": "5a5eaa94-60f7-4d7b-b4c9-e8890c2d2798"
      },
      "source": [
        "df3.shape"
      ],
      "execution_count": 96,
      "outputs": [
        {
          "output_type": "execute_result",
          "data": {
            "text/plain": [
              "(440098, 3)"
            ]
          },
          "metadata": {
            "tags": []
          },
          "execution_count": 96
        }
      ]
    },
    {
      "cell_type": "markdown",
      "metadata": {
        "id": "HSxRaXTWOvz5"
      },
      "source": [
        "**Merge all the datasets**"
      ]
    },
    {
      "cell_type": "code",
      "metadata": {
        "id": "PhuUeGPiGl70"
      },
      "source": [
        "data0 = pd.merge(df , df1 , on='City')\n",
        "data1 = pd.merge(df2,df3, on='Customer ID')\n",
        "data3 = pd.merge(data0,data1,on='Transaction ID')"
      ],
      "execution_count": 41,
      "outputs": []
    },
    {
      "cell_type": "markdown",
      "metadata": {
        "id": "m3wJoOJyPDZZ"
      },
      "source": [
        "**Adding some changes on the final dataset**"
      ]
    },
    {
      "cell_type": "code",
      "metadata": {
        "colab": {
          "base_uri": "https://localhost:8080/",
          "height": 347
        },
        "id": "vZ5jjfLK0Ktg",
        "outputId": "fa6640d9-c131-45b7-c39e-dda10afb27db"
      },
      "source": [
        "data3['Profit'] =data3['Cost of Trip']+data3['Price Charged']\n",
        "data3.head()"
      ],
      "execution_count": 42,
      "outputs": [
        {
          "output_type": "execute_result",
          "data": {
            "text/html": [
              "<div>\n",
              "<style scoped>\n",
              "    .dataframe tbody tr th:only-of-type {\n",
              "        vertical-align: middle;\n",
              "    }\n",
              "\n",
              "    .dataframe tbody tr th {\n",
              "        vertical-align: top;\n",
              "    }\n",
              "\n",
              "    .dataframe thead th {\n",
              "        text-align: right;\n",
              "    }\n",
              "</style>\n",
              "<table border=\"1\" class=\"dataframe\">\n",
              "  <thead>\n",
              "    <tr style=\"text-align: right;\">\n",
              "      <th></th>\n",
              "      <th>Transaction ID</th>\n",
              "      <th>Date of Travel</th>\n",
              "      <th>Company</th>\n",
              "      <th>City</th>\n",
              "      <th>KM Travelled</th>\n",
              "      <th>Price Charged</th>\n",
              "      <th>Cost of Trip</th>\n",
              "      <th>Population</th>\n",
              "      <th>Users</th>\n",
              "      <th>Customer ID</th>\n",
              "      <th>Gender</th>\n",
              "      <th>Age</th>\n",
              "      <th>Income (USD/Month)</th>\n",
              "      <th>Payment_Mode</th>\n",
              "      <th>Profit</th>\n",
              "    </tr>\n",
              "  </thead>\n",
              "  <tbody>\n",
              "    <tr>\n",
              "      <th>0</th>\n",
              "      <td>10000011</td>\n",
              "      <td>1/8/2016</td>\n",
              "      <td>Pink Cab</td>\n",
              "      <td>ATLANTA GA</td>\n",
              "      <td>30.45</td>\n",
              "      <td>370.95</td>\n",
              "      <td>313.635</td>\n",
              "      <td>814885.0</td>\n",
              "      <td>24701.0</td>\n",
              "      <td>29290</td>\n",
              "      <td>Male</td>\n",
              "      <td>28</td>\n",
              "      <td>10813</td>\n",
              "      <td>Card</td>\n",
              "      <td>684.585</td>\n",
              "    </tr>\n",
              "    <tr>\n",
              "      <th>1</th>\n",
              "      <td>10000012</td>\n",
              "      <td>1/6/2016</td>\n",
              "      <td>Pink Cab</td>\n",
              "      <td>ATLANTA GA</td>\n",
              "      <td>28.62</td>\n",
              "      <td>358.52</td>\n",
              "      <td>334.854</td>\n",
              "      <td>814885.0</td>\n",
              "      <td>24701.0</td>\n",
              "      <td>27703</td>\n",
              "      <td>Male</td>\n",
              "      <td>27</td>\n",
              "      <td>9237</td>\n",
              "      <td>Card</td>\n",
              "      <td>693.374</td>\n",
              "    </tr>\n",
              "    <tr>\n",
              "      <th>2</th>\n",
              "      <td>10000013</td>\n",
              "      <td>1/2/2016</td>\n",
              "      <td>Pink Cab</td>\n",
              "      <td>ATLANTA GA</td>\n",
              "      <td>9.04</td>\n",
              "      <td>125.20</td>\n",
              "      <td>97.632</td>\n",
              "      <td>814885.0</td>\n",
              "      <td>24701.0</td>\n",
              "      <td>28712</td>\n",
              "      <td>Male</td>\n",
              "      <td>53</td>\n",
              "      <td>11242</td>\n",
              "      <td>Cash</td>\n",
              "      <td>222.832</td>\n",
              "    </tr>\n",
              "    <tr>\n",
              "      <th>3</th>\n",
              "      <td>10000014</td>\n",
              "      <td>1/7/2016</td>\n",
              "      <td>Pink Cab</td>\n",
              "      <td>ATLANTA GA</td>\n",
              "      <td>33.17</td>\n",
              "      <td>377.40</td>\n",
              "      <td>351.602</td>\n",
              "      <td>814885.0</td>\n",
              "      <td>24701.0</td>\n",
              "      <td>28020</td>\n",
              "      <td>Male</td>\n",
              "      <td>23</td>\n",
              "      <td>23327</td>\n",
              "      <td>Cash</td>\n",
              "      <td>729.002</td>\n",
              "    </tr>\n",
              "    <tr>\n",
              "      <th>4</th>\n",
              "      <td>10000015</td>\n",
              "      <td>1/3/2016</td>\n",
              "      <td>Pink Cab</td>\n",
              "      <td>ATLANTA GA</td>\n",
              "      <td>8.73</td>\n",
              "      <td>114.62</td>\n",
              "      <td>97.776</td>\n",
              "      <td>814885.0</td>\n",
              "      <td>24701.0</td>\n",
              "      <td>27182</td>\n",
              "      <td>Male</td>\n",
              "      <td>33</td>\n",
              "      <td>8536</td>\n",
              "      <td>Card</td>\n",
              "      <td>212.396</td>\n",
              "    </tr>\n",
              "  </tbody>\n",
              "</table>\n",
              "</div>"
            ],
            "text/plain": [
              "   Transaction ID Date of Travel  ... Payment_Mode   Profit\n",
              "0        10000011       1/8/2016  ...         Card  684.585\n",
              "1        10000012       1/6/2016  ...         Card  693.374\n",
              "2        10000013       1/2/2016  ...         Cash  222.832\n",
              "3        10000014       1/7/2016  ...         Cash  729.002\n",
              "4        10000015       1/3/2016  ...         Card  212.396\n",
              "\n",
              "[5 rows x 15 columns]"
            ]
          },
          "metadata": {
            "tags": []
          },
          "execution_count": 42
        }
      ]
    },
    {
      "cell_type": "markdown",
      "metadata": {
        "id": "9eKEzfv1HkyY"
      },
      "source": [
        "Split the Date Of Travel"
      ]
    },
    {
      "cell_type": "code",
      "metadata": {
        "colab": {
          "base_uri": "https://localhost:8080/"
        },
        "id": "sp59zzVtZWlH",
        "outputId": "01e6463d-f032-4e01-9e57-2fd55216c4bb"
      },
      "source": [
        "data3['Date of Travel'] = pd.to_datetime(data3['Date of Travel'])\n",
        "data3['Date of Travel']"
      ],
      "execution_count": 43,
      "outputs": [
        {
          "output_type": "execute_result",
          "data": {
            "text/plain": [
              "0        2016-01-08\n",
              "1        2016-01-06\n",
              "2        2016-01-02\n",
              "3        2016-01-07\n",
              "4        2016-01-03\n",
              "            ...    \n",
              "359387   2018-01-08\n",
              "359388   2018-01-04\n",
              "359389   2018-01-05\n",
              "359390   2018-01-05\n",
              "359391   2018-01-02\n",
              "Name: Date of Travel, Length: 359392, dtype: datetime64[ns]"
            ]
          },
          "metadata": {
            "tags": []
          },
          "execution_count": 43
        }
      ]
    },
    {
      "cell_type": "code",
      "metadata": {
        "colab": {
          "base_uri": "https://localhost:8080/"
        },
        "id": "rUqhNAGwaKi2",
        "outputId": "3e014704-7789-48b8-b52f-a286cc85f3e1"
      },
      "source": [
        "data3['Date of Travel'].dt.year"
      ],
      "execution_count": 44,
      "outputs": [
        {
          "output_type": "execute_result",
          "data": {
            "text/plain": [
              "0         2016\n",
              "1         2016\n",
              "2         2016\n",
              "3         2016\n",
              "4         2016\n",
              "          ... \n",
              "359387    2018\n",
              "359388    2018\n",
              "359389    2018\n",
              "359390    2018\n",
              "359391    2018\n",
              "Name: Date of Travel, Length: 359392, dtype: int64"
            ]
          },
          "metadata": {
            "tags": []
          },
          "execution_count": 44
        }
      ]
    },
    {
      "cell_type": "code",
      "metadata": {
        "colab": {
          "base_uri": "https://localhost:8080/",
          "height": 651
        },
        "id": "aGaJ9hJBan5B",
        "outputId": "27b445e9-7b36-4a16-ac0d-8774cbe864ec"
      },
      "source": [
        "data3['year'] = data3['Date of Travel'].dt.year\n",
        "data3['month']=data3['Date of Travel'].dt.month\n",
        "data3['day']=data3['Date of Travel'].dt.day\n",
        "data3"
      ],
      "execution_count": 45,
      "outputs": [
        {
          "output_type": "execute_result",
          "data": {
            "text/html": [
              "<div>\n",
              "<style scoped>\n",
              "    .dataframe tbody tr th:only-of-type {\n",
              "        vertical-align: middle;\n",
              "    }\n",
              "\n",
              "    .dataframe tbody tr th {\n",
              "        vertical-align: top;\n",
              "    }\n",
              "\n",
              "    .dataframe thead th {\n",
              "        text-align: right;\n",
              "    }\n",
              "</style>\n",
              "<table border=\"1\" class=\"dataframe\">\n",
              "  <thead>\n",
              "    <tr style=\"text-align: right;\">\n",
              "      <th></th>\n",
              "      <th>Transaction ID</th>\n",
              "      <th>Date of Travel</th>\n",
              "      <th>Company</th>\n",
              "      <th>City</th>\n",
              "      <th>KM Travelled</th>\n",
              "      <th>Price Charged</th>\n",
              "      <th>Cost of Trip</th>\n",
              "      <th>Population</th>\n",
              "      <th>Users</th>\n",
              "      <th>Customer ID</th>\n",
              "      <th>Gender</th>\n",
              "      <th>Age</th>\n",
              "      <th>Income (USD/Month)</th>\n",
              "      <th>Payment_Mode</th>\n",
              "      <th>Profit</th>\n",
              "      <th>year</th>\n",
              "      <th>month</th>\n",
              "      <th>day</th>\n",
              "    </tr>\n",
              "  </thead>\n",
              "  <tbody>\n",
              "    <tr>\n",
              "      <th>0</th>\n",
              "      <td>10000011</td>\n",
              "      <td>2016-01-08</td>\n",
              "      <td>Pink Cab</td>\n",
              "      <td>ATLANTA GA</td>\n",
              "      <td>30.45</td>\n",
              "      <td>370.95</td>\n",
              "      <td>313.6350</td>\n",
              "      <td>814885.0</td>\n",
              "      <td>24701.0</td>\n",
              "      <td>29290</td>\n",
              "      <td>Male</td>\n",
              "      <td>28</td>\n",
              "      <td>10813</td>\n",
              "      <td>Card</td>\n",
              "      <td>684.5850</td>\n",
              "      <td>2016</td>\n",
              "      <td>1</td>\n",
              "      <td>8</td>\n",
              "    </tr>\n",
              "    <tr>\n",
              "      <th>1</th>\n",
              "      <td>10000012</td>\n",
              "      <td>2016-01-06</td>\n",
              "      <td>Pink Cab</td>\n",
              "      <td>ATLANTA GA</td>\n",
              "      <td>28.62</td>\n",
              "      <td>358.52</td>\n",
              "      <td>334.8540</td>\n",
              "      <td>814885.0</td>\n",
              "      <td>24701.0</td>\n",
              "      <td>27703</td>\n",
              "      <td>Male</td>\n",
              "      <td>27</td>\n",
              "      <td>9237</td>\n",
              "      <td>Card</td>\n",
              "      <td>693.3740</td>\n",
              "      <td>2016</td>\n",
              "      <td>1</td>\n",
              "      <td>6</td>\n",
              "    </tr>\n",
              "    <tr>\n",
              "      <th>2</th>\n",
              "      <td>10000013</td>\n",
              "      <td>2016-01-02</td>\n",
              "      <td>Pink Cab</td>\n",
              "      <td>ATLANTA GA</td>\n",
              "      <td>9.04</td>\n",
              "      <td>125.20</td>\n",
              "      <td>97.6320</td>\n",
              "      <td>814885.0</td>\n",
              "      <td>24701.0</td>\n",
              "      <td>28712</td>\n",
              "      <td>Male</td>\n",
              "      <td>53</td>\n",
              "      <td>11242</td>\n",
              "      <td>Cash</td>\n",
              "      <td>222.8320</td>\n",
              "      <td>2016</td>\n",
              "      <td>1</td>\n",
              "      <td>2</td>\n",
              "    </tr>\n",
              "    <tr>\n",
              "      <th>3</th>\n",
              "      <td>10000014</td>\n",
              "      <td>2016-01-07</td>\n",
              "      <td>Pink Cab</td>\n",
              "      <td>ATLANTA GA</td>\n",
              "      <td>33.17</td>\n",
              "      <td>377.40</td>\n",
              "      <td>351.6020</td>\n",
              "      <td>814885.0</td>\n",
              "      <td>24701.0</td>\n",
              "      <td>28020</td>\n",
              "      <td>Male</td>\n",
              "      <td>23</td>\n",
              "      <td>23327</td>\n",
              "      <td>Cash</td>\n",
              "      <td>729.0020</td>\n",
              "      <td>2016</td>\n",
              "      <td>1</td>\n",
              "      <td>7</td>\n",
              "    </tr>\n",
              "    <tr>\n",
              "      <th>4</th>\n",
              "      <td>10000015</td>\n",
              "      <td>2016-01-03</td>\n",
              "      <td>Pink Cab</td>\n",
              "      <td>ATLANTA GA</td>\n",
              "      <td>8.73</td>\n",
              "      <td>114.62</td>\n",
              "      <td>97.7760</td>\n",
              "      <td>814885.0</td>\n",
              "      <td>24701.0</td>\n",
              "      <td>27182</td>\n",
              "      <td>Male</td>\n",
              "      <td>33</td>\n",
              "      <td>8536</td>\n",
              "      <td>Card</td>\n",
              "      <td>212.3960</td>\n",
              "      <td>2016</td>\n",
              "      <td>1</td>\n",
              "      <td>3</td>\n",
              "    </tr>\n",
              "    <tr>\n",
              "      <th>...</th>\n",
              "      <td>...</td>\n",
              "      <td>...</td>\n",
              "      <td>...</td>\n",
              "      <td>...</td>\n",
              "      <td>...</td>\n",
              "      <td>...</td>\n",
              "      <td>...</td>\n",
              "      <td>...</td>\n",
              "      <td>...</td>\n",
              "      <td>...</td>\n",
              "      <td>...</td>\n",
              "      <td>...</td>\n",
              "      <td>...</td>\n",
              "      <td>...</td>\n",
              "      <td>...</td>\n",
              "      <td>...</td>\n",
              "      <td>...</td>\n",
              "      <td>...</td>\n",
              "    </tr>\n",
              "    <tr>\n",
              "      <th>359387</th>\n",
              "      <td>10440101</td>\n",
              "      <td>2018-01-08</td>\n",
              "      <td>Yellow Cab</td>\n",
              "      <td>WASHINGTON DC</td>\n",
              "      <td>4.80</td>\n",
              "      <td>69.24</td>\n",
              "      <td>63.3600</td>\n",
              "      <td>418859.0</td>\n",
              "      <td>127001.0</td>\n",
              "      <td>52392</td>\n",
              "      <td>Male</td>\n",
              "      <td>24</td>\n",
              "      <td>15651</td>\n",
              "      <td>Cash</td>\n",
              "      <td>132.6000</td>\n",
              "      <td>2018</td>\n",
              "      <td>1</td>\n",
              "      <td>8</td>\n",
              "    </tr>\n",
              "    <tr>\n",
              "      <th>359388</th>\n",
              "      <td>10440104</td>\n",
              "      <td>2018-01-04</td>\n",
              "      <td>Yellow Cab</td>\n",
              "      <td>WASHINGTON DC</td>\n",
              "      <td>8.40</td>\n",
              "      <td>113.75</td>\n",
              "      <td>106.8480</td>\n",
              "      <td>418859.0</td>\n",
              "      <td>127001.0</td>\n",
              "      <td>53286</td>\n",
              "      <td>Male</td>\n",
              "      <td>32</td>\n",
              "      <td>6528</td>\n",
              "      <td>Cash</td>\n",
              "      <td>220.5980</td>\n",
              "      <td>2018</td>\n",
              "      <td>1</td>\n",
              "      <td>4</td>\n",
              "    </tr>\n",
              "    <tr>\n",
              "      <th>359389</th>\n",
              "      <td>10440105</td>\n",
              "      <td>2018-01-05</td>\n",
              "      <td>Yellow Cab</td>\n",
              "      <td>WASHINGTON DC</td>\n",
              "      <td>27.75</td>\n",
              "      <td>437.07</td>\n",
              "      <td>349.6500</td>\n",
              "      <td>418859.0</td>\n",
              "      <td>127001.0</td>\n",
              "      <td>52265</td>\n",
              "      <td>Male</td>\n",
              "      <td>56</td>\n",
              "      <td>7966</td>\n",
              "      <td>Cash</td>\n",
              "      <td>786.7200</td>\n",
              "      <td>2018</td>\n",
              "      <td>1</td>\n",
              "      <td>5</td>\n",
              "    </tr>\n",
              "    <tr>\n",
              "      <th>359390</th>\n",
              "      <td>10440106</td>\n",
              "      <td>2018-01-05</td>\n",
              "      <td>Yellow Cab</td>\n",
              "      <td>WASHINGTON DC</td>\n",
              "      <td>8.80</td>\n",
              "      <td>146.19</td>\n",
              "      <td>114.0480</td>\n",
              "      <td>418859.0</td>\n",
              "      <td>127001.0</td>\n",
              "      <td>52175</td>\n",
              "      <td>Male</td>\n",
              "      <td>32</td>\n",
              "      <td>6423</td>\n",
              "      <td>Card</td>\n",
              "      <td>260.2380</td>\n",
              "      <td>2018</td>\n",
              "      <td>1</td>\n",
              "      <td>5</td>\n",
              "    </tr>\n",
              "    <tr>\n",
              "      <th>359391</th>\n",
              "      <td>10440107</td>\n",
              "      <td>2018-01-02</td>\n",
              "      <td>Yellow Cab</td>\n",
              "      <td>WASHINGTON DC</td>\n",
              "      <td>12.76</td>\n",
              "      <td>191.58</td>\n",
              "      <td>177.6192</td>\n",
              "      <td>418859.0</td>\n",
              "      <td>127001.0</td>\n",
              "      <td>52917</td>\n",
              "      <td>Male</td>\n",
              "      <td>20</td>\n",
              "      <td>11284</td>\n",
              "      <td>Card</td>\n",
              "      <td>369.1992</td>\n",
              "      <td>2018</td>\n",
              "      <td>1</td>\n",
              "      <td>2</td>\n",
              "    </tr>\n",
              "  </tbody>\n",
              "</table>\n",
              "<p>359392 rows × 18 columns</p>\n",
              "</div>"
            ],
            "text/plain": [
              "        Transaction ID Date of Travel     Company  ...  year  month  day\n",
              "0             10000011     2016-01-08    Pink Cab  ...  2016      1    8\n",
              "1             10000012     2016-01-06    Pink Cab  ...  2016      1    6\n",
              "2             10000013     2016-01-02    Pink Cab  ...  2016      1    2\n",
              "3             10000014     2016-01-07    Pink Cab  ...  2016      1    7\n",
              "4             10000015     2016-01-03    Pink Cab  ...  2016      1    3\n",
              "...                ...            ...         ...  ...   ...    ...  ...\n",
              "359387        10440101     2018-01-08  Yellow Cab  ...  2018      1    8\n",
              "359388        10440104     2018-01-04  Yellow Cab  ...  2018      1    4\n",
              "359389        10440105     2018-01-05  Yellow Cab  ...  2018      1    5\n",
              "359390        10440106     2018-01-05  Yellow Cab  ...  2018      1    5\n",
              "359391        10440107     2018-01-02  Yellow Cab  ...  2018      1    2\n",
              "\n",
              "[359392 rows x 18 columns]"
            ]
          },
          "metadata": {
            "tags": []
          },
          "execution_count": 45
        }
      ]
    },
    {
      "cell_type": "markdown",
      "metadata": {
        "id": "RjCdRuDDPatm"
      },
      "source": [
        "Dropping the duplicates on Customer ID column"
      ]
    },
    {
      "cell_type": "code",
      "metadata": {
        "colab": {
          "base_uri": "https://localhost:8080/"
        },
        "id": "8dJDLA27PjT9",
        "outputId": "580fa28c-76fe-4f76-9974-b67d226f02a5"
      },
      "source": [
        "data3['Customer ID'].duplicated().sum()"
      ],
      "execution_count": 46,
      "outputs": [
        {
          "output_type": "execute_result",
          "data": {
            "text/plain": [
              "313244"
            ]
          },
          "metadata": {
            "tags": []
          },
          "execution_count": 46
        }
      ]
    },
    {
      "cell_type": "code",
      "metadata": {
        "id": "3nmtD80QhbfY",
        "colab": {
          "base_uri": "https://localhost:8080/",
          "height": 651
        },
        "outputId": "977d180d-9791-4b43-ac32-a401d9f76024"
      },
      "source": [
        "data3.drop_duplicates(['Customer ID'], inplace=True)\n",
        "data3"
      ],
      "execution_count": 47,
      "outputs": [
        {
          "output_type": "execute_result",
          "data": {
            "text/html": [
              "<div>\n",
              "<style scoped>\n",
              "    .dataframe tbody tr th:only-of-type {\n",
              "        vertical-align: middle;\n",
              "    }\n",
              "\n",
              "    .dataframe tbody tr th {\n",
              "        vertical-align: top;\n",
              "    }\n",
              "\n",
              "    .dataframe thead th {\n",
              "        text-align: right;\n",
              "    }\n",
              "</style>\n",
              "<table border=\"1\" class=\"dataframe\">\n",
              "  <thead>\n",
              "    <tr style=\"text-align: right;\">\n",
              "      <th></th>\n",
              "      <th>Transaction ID</th>\n",
              "      <th>Date of Travel</th>\n",
              "      <th>Company</th>\n",
              "      <th>City</th>\n",
              "      <th>KM Travelled</th>\n",
              "      <th>Price Charged</th>\n",
              "      <th>Cost of Trip</th>\n",
              "      <th>Population</th>\n",
              "      <th>Users</th>\n",
              "      <th>Customer ID</th>\n",
              "      <th>Gender</th>\n",
              "      <th>Age</th>\n",
              "      <th>Income (USD/Month)</th>\n",
              "      <th>Payment_Mode</th>\n",
              "      <th>Profit</th>\n",
              "      <th>year</th>\n",
              "      <th>month</th>\n",
              "      <th>day</th>\n",
              "    </tr>\n",
              "  </thead>\n",
              "  <tbody>\n",
              "    <tr>\n",
              "      <th>0</th>\n",
              "      <td>10000011</td>\n",
              "      <td>2016-01-08</td>\n",
              "      <td>Pink Cab</td>\n",
              "      <td>ATLANTA GA</td>\n",
              "      <td>30.45</td>\n",
              "      <td>370.95</td>\n",
              "      <td>313.6350</td>\n",
              "      <td>814885.0</td>\n",
              "      <td>24701.0</td>\n",
              "      <td>29290</td>\n",
              "      <td>Male</td>\n",
              "      <td>28</td>\n",
              "      <td>10813</td>\n",
              "      <td>Card</td>\n",
              "      <td>684.5850</td>\n",
              "      <td>2016</td>\n",
              "      <td>1</td>\n",
              "      <td>8</td>\n",
              "    </tr>\n",
              "    <tr>\n",
              "      <th>1</th>\n",
              "      <td>10000012</td>\n",
              "      <td>2016-01-06</td>\n",
              "      <td>Pink Cab</td>\n",
              "      <td>ATLANTA GA</td>\n",
              "      <td>28.62</td>\n",
              "      <td>358.52</td>\n",
              "      <td>334.8540</td>\n",
              "      <td>814885.0</td>\n",
              "      <td>24701.0</td>\n",
              "      <td>27703</td>\n",
              "      <td>Male</td>\n",
              "      <td>27</td>\n",
              "      <td>9237</td>\n",
              "      <td>Card</td>\n",
              "      <td>693.3740</td>\n",
              "      <td>2016</td>\n",
              "      <td>1</td>\n",
              "      <td>6</td>\n",
              "    </tr>\n",
              "    <tr>\n",
              "      <th>2</th>\n",
              "      <td>10000013</td>\n",
              "      <td>2016-01-02</td>\n",
              "      <td>Pink Cab</td>\n",
              "      <td>ATLANTA GA</td>\n",
              "      <td>9.04</td>\n",
              "      <td>125.20</td>\n",
              "      <td>97.6320</td>\n",
              "      <td>814885.0</td>\n",
              "      <td>24701.0</td>\n",
              "      <td>28712</td>\n",
              "      <td>Male</td>\n",
              "      <td>53</td>\n",
              "      <td>11242</td>\n",
              "      <td>Cash</td>\n",
              "      <td>222.8320</td>\n",
              "      <td>2016</td>\n",
              "      <td>1</td>\n",
              "      <td>2</td>\n",
              "    </tr>\n",
              "    <tr>\n",
              "      <th>3</th>\n",
              "      <td>10000014</td>\n",
              "      <td>2016-01-07</td>\n",
              "      <td>Pink Cab</td>\n",
              "      <td>ATLANTA GA</td>\n",
              "      <td>33.17</td>\n",
              "      <td>377.40</td>\n",
              "      <td>351.6020</td>\n",
              "      <td>814885.0</td>\n",
              "      <td>24701.0</td>\n",
              "      <td>28020</td>\n",
              "      <td>Male</td>\n",
              "      <td>23</td>\n",
              "      <td>23327</td>\n",
              "      <td>Cash</td>\n",
              "      <td>729.0020</td>\n",
              "      <td>2016</td>\n",
              "      <td>1</td>\n",
              "      <td>7</td>\n",
              "    </tr>\n",
              "    <tr>\n",
              "      <th>4</th>\n",
              "      <td>10000015</td>\n",
              "      <td>2016-01-03</td>\n",
              "      <td>Pink Cab</td>\n",
              "      <td>ATLANTA GA</td>\n",
              "      <td>8.73</td>\n",
              "      <td>114.62</td>\n",
              "      <td>97.7760</td>\n",
              "      <td>814885.0</td>\n",
              "      <td>24701.0</td>\n",
              "      <td>27182</td>\n",
              "      <td>Male</td>\n",
              "      <td>33</td>\n",
              "      <td>8536</td>\n",
              "      <td>Card</td>\n",
              "      <td>212.3960</td>\n",
              "      <td>2016</td>\n",
              "      <td>1</td>\n",
              "      <td>3</td>\n",
              "    </tr>\n",
              "    <tr>\n",
              "      <th>...</th>\n",
              "      <td>...</td>\n",
              "      <td>...</td>\n",
              "      <td>...</td>\n",
              "      <td>...</td>\n",
              "      <td>...</td>\n",
              "      <td>...</td>\n",
              "      <td>...</td>\n",
              "      <td>...</td>\n",
              "      <td>...</td>\n",
              "      <td>...</td>\n",
              "      <td>...</td>\n",
              "      <td>...</td>\n",
              "      <td>...</td>\n",
              "      <td>...</td>\n",
              "      <td>...</td>\n",
              "      <td>...</td>\n",
              "      <td>...</td>\n",
              "      <td>...</td>\n",
              "    </tr>\n",
              "    <tr>\n",
              "      <th>336093</th>\n",
              "      <td>10197277</td>\n",
              "      <td>2017-07-23</td>\n",
              "      <td>Pink Cab</td>\n",
              "      <td>WASHINGTON DC</td>\n",
              "      <td>32.64</td>\n",
              "      <td>375.27</td>\n",
              "      <td>368.8320</td>\n",
              "      <td>418859.0</td>\n",
              "      <td>127001.0</td>\n",
              "      <td>51510</td>\n",
              "      <td>Female</td>\n",
              "      <td>18</td>\n",
              "      <td>6855</td>\n",
              "      <td>Card</td>\n",
              "      <td>744.1020</td>\n",
              "      <td>2017</td>\n",
              "      <td>7</td>\n",
              "      <td>23</td>\n",
              "    </tr>\n",
              "    <tr>\n",
              "      <th>336284</th>\n",
              "      <td>10199158</td>\n",
              "      <td>2017-07-21</td>\n",
              "      <td>Yellow Cab</td>\n",
              "      <td>WASHINGTON DC</td>\n",
              "      <td>2.02</td>\n",
              "      <td>26.13</td>\n",
              "      <td>24.9672</td>\n",
              "      <td>418859.0</td>\n",
              "      <td>127001.0</td>\n",
              "      <td>52759</td>\n",
              "      <td>Female</td>\n",
              "      <td>58</td>\n",
              "      <td>2615</td>\n",
              "      <td>Card</td>\n",
              "      <td>51.0972</td>\n",
              "      <td>2017</td>\n",
              "      <td>7</td>\n",
              "      <td>21</td>\n",
              "    </tr>\n",
              "    <tr>\n",
              "      <th>336392</th>\n",
              "      <td>10201973</td>\n",
              "      <td>2017-07-31</td>\n",
              "      <td>Yellow Cab</td>\n",
              "      <td>WASHINGTON DC</td>\n",
              "      <td>17.25</td>\n",
              "      <td>225.16</td>\n",
              "      <td>215.2800</td>\n",
              "      <td>418859.0</td>\n",
              "      <td>127001.0</td>\n",
              "      <td>51078</td>\n",
              "      <td>Male</td>\n",
              "      <td>21</td>\n",
              "      <td>8810</td>\n",
              "      <td>Card</td>\n",
              "      <td>440.4400</td>\n",
              "      <td>2017</td>\n",
              "      <td>7</td>\n",
              "      <td>31</td>\n",
              "    </tr>\n",
              "    <tr>\n",
              "      <th>343083</th>\n",
              "      <td>10274704</td>\n",
              "      <td>2017-12-06</td>\n",
              "      <td>Yellow Cab</td>\n",
              "      <td>WASHINGTON DC</td>\n",
              "      <td>42.80</td>\n",
              "      <td>627.21</td>\n",
              "      <td>559.8240</td>\n",
              "      <td>418859.0</td>\n",
              "      <td>127001.0</td>\n",
              "      <td>52614</td>\n",
              "      <td>Female</td>\n",
              "      <td>44</td>\n",
              "      <td>8303</td>\n",
              "      <td>Card</td>\n",
              "      <td>1187.0340</td>\n",
              "      <td>2017</td>\n",
              "      <td>12</td>\n",
              "      <td>6</td>\n",
              "    </tr>\n",
              "    <tr>\n",
              "      <th>343674</th>\n",
              "      <td>10284072</td>\n",
              "      <td>2017-12-17</td>\n",
              "      <td>Yellow Cab</td>\n",
              "      <td>WASHINGTON DC</td>\n",
              "      <td>44.00</td>\n",
              "      <td>679.97</td>\n",
              "      <td>607.2000</td>\n",
              "      <td>418859.0</td>\n",
              "      <td>127001.0</td>\n",
              "      <td>51406</td>\n",
              "      <td>Female</td>\n",
              "      <td>29</td>\n",
              "      <td>6829</td>\n",
              "      <td>Cash</td>\n",
              "      <td>1287.1700</td>\n",
              "      <td>2017</td>\n",
              "      <td>12</td>\n",
              "      <td>17</td>\n",
              "    </tr>\n",
              "  </tbody>\n",
              "</table>\n",
              "<p>46148 rows × 18 columns</p>\n",
              "</div>"
            ],
            "text/plain": [
              "        Transaction ID Date of Travel     Company  ...  year  month  day\n",
              "0             10000011     2016-01-08    Pink Cab  ...  2016      1    8\n",
              "1             10000012     2016-01-06    Pink Cab  ...  2016      1    6\n",
              "2             10000013     2016-01-02    Pink Cab  ...  2016      1    2\n",
              "3             10000014     2016-01-07    Pink Cab  ...  2016      1    7\n",
              "4             10000015     2016-01-03    Pink Cab  ...  2016      1    3\n",
              "...                ...            ...         ...  ...   ...    ...  ...\n",
              "336093        10197277     2017-07-23    Pink Cab  ...  2017      7   23\n",
              "336284        10199158     2017-07-21  Yellow Cab  ...  2017      7   21\n",
              "336392        10201973     2017-07-31  Yellow Cab  ...  2017      7   31\n",
              "343083        10274704     2017-12-06  Yellow Cab  ...  2017     12    6\n",
              "343674        10284072     2017-12-17  Yellow Cab  ...  2017     12   17\n",
              "\n",
              "[46148 rows x 18 columns]"
            ]
          },
          "metadata": {
            "tags": []
          },
          "execution_count": 47
        }
      ]
    },
    {
      "cell_type": "markdown",
      "metadata": {
        "id": "v1x0RwjfQb_G"
      },
      "source": [
        "Change 'Age' and 'KM Travelled columns from continuous number to categrical"
      ]
    },
    {
      "cell_type": "code",
      "metadata": {
        "colab": {
          "base_uri": "https://localhost:8080/"
        },
        "id": "TaN1KZCDZTrN",
        "outputId": "b51d500f-f39c-4f59-b746-fc0f2f3a22e2"
      },
      "source": [
        "data3['Age'].min()"
      ],
      "execution_count": 67,
      "outputs": [
        {
          "output_type": "execute_result",
          "data": {
            "text/plain": [
              "18"
            ]
          },
          "metadata": {
            "tags": []
          },
          "execution_count": 67
        }
      ]
    },
    {
      "cell_type": "code",
      "metadata": {
        "colab": {
          "base_uri": "https://localhost:8080/"
        },
        "id": "5jKZYTcmZTVO",
        "outputId": "09fd0bac-c4de-41aa-cd85-c3fa92a8e179"
      },
      "source": [
        "data3['Age'].max()"
      ],
      "execution_count": 66,
      "outputs": [
        {
          "output_type": "execute_result",
          "data": {
            "text/plain": [
              "65"
            ]
          },
          "metadata": {
            "tags": []
          },
          "execution_count": 66
        }
      ]
    },
    {
      "cell_type": "code",
      "metadata": {
        "colab": {
          "base_uri": "https://localhost:8080/",
          "height": 347
        },
        "id": "xKbzg-wlXvoZ",
        "outputId": "8eefe60c-1864-4aae-d670-727e8120ae9a"
      },
      "source": [
        "data3['Catogrical Age'] = pd.cut(data3.Age , bins=[18,25,35,45,55,65], labels=['18-25','26-35','36-45','46-55','above 55'])\n",
        "data3.head()"
      ],
      "execution_count": 65,
      "outputs": [
        {
          "output_type": "execute_result",
          "data": {
            "text/html": [
              "<div>\n",
              "<style scoped>\n",
              "    .dataframe tbody tr th:only-of-type {\n",
              "        vertical-align: middle;\n",
              "    }\n",
              "\n",
              "    .dataframe tbody tr th {\n",
              "        vertical-align: top;\n",
              "    }\n",
              "\n",
              "    .dataframe thead th {\n",
              "        text-align: right;\n",
              "    }\n",
              "</style>\n",
              "<table border=\"1\" class=\"dataframe\">\n",
              "  <thead>\n",
              "    <tr style=\"text-align: right;\">\n",
              "      <th></th>\n",
              "      <th>Transaction ID</th>\n",
              "      <th>Date of Travel</th>\n",
              "      <th>Company</th>\n",
              "      <th>City</th>\n",
              "      <th>KM Travelled</th>\n",
              "      <th>Price Charged</th>\n",
              "      <th>Cost of Trip</th>\n",
              "      <th>Population</th>\n",
              "      <th>Users</th>\n",
              "      <th>Customer ID</th>\n",
              "      <th>Gender</th>\n",
              "      <th>Age</th>\n",
              "      <th>Income (USD/Month)</th>\n",
              "      <th>Payment_Mode</th>\n",
              "      <th>Profit</th>\n",
              "      <th>year</th>\n",
              "      <th>month</th>\n",
              "      <th>day</th>\n",
              "      <th>Catogrical Age</th>\n",
              "      <th>Categrocial KM Travelled</th>\n",
              "    </tr>\n",
              "  </thead>\n",
              "  <tbody>\n",
              "    <tr>\n",
              "      <th>0</th>\n",
              "      <td>10000011</td>\n",
              "      <td>2016-01-08</td>\n",
              "      <td>Pink Cab</td>\n",
              "      <td>ATLANTA GA</td>\n",
              "      <td>30.45</td>\n",
              "      <td>370.95</td>\n",
              "      <td>313.635</td>\n",
              "      <td>814885.0</td>\n",
              "      <td>24701.0</td>\n",
              "      <td>29290</td>\n",
              "      <td>Male</td>\n",
              "      <td>28</td>\n",
              "      <td>10813</td>\n",
              "      <td>Card</td>\n",
              "      <td>684.585</td>\n",
              "      <td>2016</td>\n",
              "      <td>1</td>\n",
              "      <td>8</td>\n",
              "      <td>26-35</td>\n",
              "      <td>31-40 KM</td>\n",
              "    </tr>\n",
              "    <tr>\n",
              "      <th>1</th>\n",
              "      <td>10000012</td>\n",
              "      <td>2016-01-06</td>\n",
              "      <td>Pink Cab</td>\n",
              "      <td>ATLANTA GA</td>\n",
              "      <td>28.62</td>\n",
              "      <td>358.52</td>\n",
              "      <td>334.854</td>\n",
              "      <td>814885.0</td>\n",
              "      <td>24701.0</td>\n",
              "      <td>27703</td>\n",
              "      <td>Male</td>\n",
              "      <td>27</td>\n",
              "      <td>9237</td>\n",
              "      <td>Card</td>\n",
              "      <td>693.374</td>\n",
              "      <td>2016</td>\n",
              "      <td>1</td>\n",
              "      <td>6</td>\n",
              "      <td>26-35</td>\n",
              "      <td>21-30 KM</td>\n",
              "    </tr>\n",
              "    <tr>\n",
              "      <th>2</th>\n",
              "      <td>10000013</td>\n",
              "      <td>2016-01-02</td>\n",
              "      <td>Pink Cab</td>\n",
              "      <td>ATLANTA GA</td>\n",
              "      <td>9.04</td>\n",
              "      <td>125.20</td>\n",
              "      <td>97.632</td>\n",
              "      <td>814885.0</td>\n",
              "      <td>24701.0</td>\n",
              "      <td>28712</td>\n",
              "      <td>Male</td>\n",
              "      <td>53</td>\n",
              "      <td>11242</td>\n",
              "      <td>Cash</td>\n",
              "      <td>222.832</td>\n",
              "      <td>2016</td>\n",
              "      <td>1</td>\n",
              "      <td>2</td>\n",
              "      <td>46-55</td>\n",
              "      <td>0-10 KM</td>\n",
              "    </tr>\n",
              "    <tr>\n",
              "      <th>3</th>\n",
              "      <td>10000014</td>\n",
              "      <td>2016-01-07</td>\n",
              "      <td>Pink Cab</td>\n",
              "      <td>ATLANTA GA</td>\n",
              "      <td>33.17</td>\n",
              "      <td>377.40</td>\n",
              "      <td>351.602</td>\n",
              "      <td>814885.0</td>\n",
              "      <td>24701.0</td>\n",
              "      <td>28020</td>\n",
              "      <td>Male</td>\n",
              "      <td>23</td>\n",
              "      <td>23327</td>\n",
              "      <td>Cash</td>\n",
              "      <td>729.002</td>\n",
              "      <td>2016</td>\n",
              "      <td>1</td>\n",
              "      <td>7</td>\n",
              "      <td>18-25</td>\n",
              "      <td>31-40 KM</td>\n",
              "    </tr>\n",
              "    <tr>\n",
              "      <th>4</th>\n",
              "      <td>10000015</td>\n",
              "      <td>2016-01-03</td>\n",
              "      <td>Pink Cab</td>\n",
              "      <td>ATLANTA GA</td>\n",
              "      <td>8.73</td>\n",
              "      <td>114.62</td>\n",
              "      <td>97.776</td>\n",
              "      <td>814885.0</td>\n",
              "      <td>24701.0</td>\n",
              "      <td>27182</td>\n",
              "      <td>Male</td>\n",
              "      <td>33</td>\n",
              "      <td>8536</td>\n",
              "      <td>Card</td>\n",
              "      <td>212.396</td>\n",
              "      <td>2016</td>\n",
              "      <td>1</td>\n",
              "      <td>3</td>\n",
              "      <td>26-35</td>\n",
              "      <td>0-10 KM</td>\n",
              "    </tr>\n",
              "  </tbody>\n",
              "</table>\n",
              "</div>"
            ],
            "text/plain": [
              "   Transaction ID Date of Travel  ... Catogrical Age Categrocial KM Travelled\n",
              "0        10000011     2016-01-08  ...          26-35                 31-40 KM\n",
              "1        10000012     2016-01-06  ...          26-35                 21-30 KM\n",
              "2        10000013     2016-01-02  ...          46-55                  0-10 KM\n",
              "3        10000014     2016-01-07  ...          18-25                 31-40 KM\n",
              "4        10000015     2016-01-03  ...          26-35                  0-10 KM\n",
              "\n",
              "[5 rows x 20 columns]"
            ]
          },
          "metadata": {
            "tags": []
          },
          "execution_count": 65
        }
      ]
    },
    {
      "cell_type": "code",
      "metadata": {
        "colab": {
          "base_uri": "https://localhost:8080/"
        },
        "id": "cHBIBlc9ZWBA",
        "outputId": "8493fc1e-f348-4642-8238-07f68e3d8f0b"
      },
      "source": [
        "data3['KM Travelled'].max()"
      ],
      "execution_count": 49,
      "outputs": [
        {
          "output_type": "execute_result",
          "data": {
            "text/plain": [
              "48.0"
            ]
          },
          "metadata": {
            "tags": []
          },
          "execution_count": 49
        }
      ]
    },
    {
      "cell_type": "code",
      "metadata": {
        "colab": {
          "base_uri": "https://localhost:8080/"
        },
        "id": "hzEnKYrMZVrJ",
        "outputId": "121663af-dfdf-4ca6-b1d3-846f3a13edeb"
      },
      "source": [
        "data3['KM Travelled'].min()"
      ],
      "execution_count": 50,
      "outputs": [
        {
          "output_type": "execute_result",
          "data": {
            "text/plain": [
              "1.9"
            ]
          },
          "metadata": {
            "tags": []
          },
          "execution_count": 50
        }
      ]
    },
    {
      "cell_type": "code",
      "metadata": {
        "id": "VULD4VOPZVYI"
      },
      "source": [
        "data3['Categrocial KM Travelled'] = pd.cut(data3['KM Travelled'], bins=[0,10,20,30,40,50],labels=['0-10 KM','11-20 KM','21-30 KM','31-40 KM','More tha 40 KM'])"
      ],
      "execution_count": 51,
      "outputs": []
    },
    {
      "cell_type": "markdown",
      "metadata": {
        "id": "Z_12aAN9RA6L"
      },
      "source": [
        "Checking for Null Values"
      ]
    },
    {
      "cell_type": "code",
      "metadata": {
        "colab": {
          "base_uri": "https://localhost:8080/"
        },
        "id": "_zNTAy_nRKt-",
        "outputId": "5939bf61-fbe0-4830-f742-8a0a31572e55"
      },
      "source": [
        "data3.isnull().sum()"
      ],
      "execution_count": 63,
      "outputs": [
        {
          "output_type": "execute_result",
          "data": {
            "text/plain": [
              "Transaction ID                 0\n",
              "Date of Travel                 0\n",
              "Company                        0\n",
              "City                           0\n",
              "KM Travelled                   0\n",
              "Price Charged                  0\n",
              "Cost of Trip                   0\n",
              "Population                     0\n",
              "Users                          0\n",
              "Customer ID                    0\n",
              "Gender                         0\n",
              "Age                            0\n",
              "Income (USD/Month)             0\n",
              "Payment_Mode                   0\n",
              "Profit                         0\n",
              "year                           0\n",
              "month                          0\n",
              "day                            0\n",
              "Catogrical Age              3915\n",
              "Categrocial KM Travelled       0\n",
              "dtype: int64"
            ]
          },
          "metadata": {
            "tags": []
          },
          "execution_count": 63
        }
      ]
    },
    {
      "cell_type": "markdown",
      "metadata": {
        "id": "riRNLIJlha-r"
      },
      "source": [
        "Finally checking tha data type"
      ]
    },
    {
      "cell_type": "code",
      "metadata": {
        "colab": {
          "base_uri": "https://localhost:8080/"
        },
        "id": "Ar_KnqzYYCeN",
        "outputId": "44b3f12d-8307-49d9-81f7-412fe833e118"
      },
      "source": [
        "data3.dtypes"
      ],
      "execution_count": 52,
      "outputs": [
        {
          "output_type": "execute_result",
          "data": {
            "text/plain": [
              "Transaction ID                       int64\n",
              "Date of Travel              datetime64[ns]\n",
              "Company                             object\n",
              "City                                object\n",
              "KM Travelled                       float64\n",
              "Price Charged                      float64\n",
              "Cost of Trip                       float64\n",
              "Population                         float64\n",
              "Users                              float64\n",
              "Customer ID                          int64\n",
              "Gender                              object\n",
              "Age                                  int64\n",
              "Income (USD/Month)                   int64\n",
              "Payment_Mode                        object\n",
              "Profit                             float64\n",
              "year                                 int64\n",
              "month                                int64\n",
              "day                                  int64\n",
              "Catogrical Age                    category\n",
              "Categrocial KM Travelled          category\n",
              "dtype: object"
            ]
          },
          "metadata": {
            "tags": []
          },
          "execution_count": 52
        }
      ]
    },
    {
      "cell_type": "code",
      "metadata": {
        "colab": {
          "base_uri": "https://localhost:8080/",
          "height": 337
        },
        "id": "kbQ8WEXVayY9",
        "outputId": "05d10d26-4ea9-484f-efb9-e59945dd135b"
      },
      "source": [
        "data3.describe()"
      ],
      "execution_count": 53,
      "outputs": [
        {
          "output_type": "execute_result",
          "data": {
            "text/html": [
              "<div>\n",
              "<style scoped>\n",
              "    .dataframe tbody tr th:only-of-type {\n",
              "        vertical-align: middle;\n",
              "    }\n",
              "\n",
              "    .dataframe tbody tr th {\n",
              "        vertical-align: top;\n",
              "    }\n",
              "\n",
              "    .dataframe thead th {\n",
              "        text-align: right;\n",
              "    }\n",
              "</style>\n",
              "<table border=\"1\" class=\"dataframe\">\n",
              "  <thead>\n",
              "    <tr style=\"text-align: right;\">\n",
              "      <th></th>\n",
              "      <th>Transaction ID</th>\n",
              "      <th>KM Travelled</th>\n",
              "      <th>Price Charged</th>\n",
              "      <th>Cost of Trip</th>\n",
              "      <th>Population</th>\n",
              "      <th>Users</th>\n",
              "      <th>Customer ID</th>\n",
              "      <th>Age</th>\n",
              "      <th>Income (USD/Month)</th>\n",
              "      <th>Profit</th>\n",
              "      <th>year</th>\n",
              "      <th>month</th>\n",
              "      <th>day</th>\n",
              "    </tr>\n",
              "  </thead>\n",
              "  <tbody>\n",
              "    <tr>\n",
              "      <th>count</th>\n",
              "      <td>4.614800e+04</td>\n",
              "      <td>46148.000000</td>\n",
              "      <td>46148.000000</td>\n",
              "      <td>46148.000000</td>\n",
              "      <td>4.614800e+04</td>\n",
              "      <td>46148.000000</td>\n",
              "      <td>46148.000000</td>\n",
              "      <td>46148.000000</td>\n",
              "      <td>46148.000000</td>\n",
              "      <td>46148.000000</td>\n",
              "      <td>46148.000000</td>\n",
              "      <td>46148.00000</td>\n",
              "      <td>46148.000000</td>\n",
              "    </tr>\n",
              "    <tr>\n",
              "      <th>mean</th>\n",
              "      <td>1.011302e+07</td>\n",
              "      <td>22.523476</td>\n",
              "      <td>404.327190</td>\n",
              "      <td>281.455841</td>\n",
              "      <td>1.396052e+06</td>\n",
              "      <td>67818.872801</td>\n",
              "      <td>27413.942641</td>\n",
              "      <td>35.358499</td>\n",
              "      <td>14997.863764</td>\n",
              "      <td>685.783031</td>\n",
              "      <td>2016.435187</td>\n",
              "      <td>5.98793</td>\n",
              "      <td>15.481863</td>\n",
              "    </tr>\n",
              "    <tr>\n",
              "      <th>std</th>\n",
              "      <td>1.156542e+05</td>\n",
              "      <td>12.257976</td>\n",
              "      <td>262.273602</td>\n",
              "      <td>156.619476</td>\n",
              "      <td>1.899894e+06</td>\n",
              "      <td>80190.164915</td>\n",
              "      <td>17842.855037</td>\n",
              "      <td>12.605460</td>\n",
              "      <td>7999.204793</td>\n",
              "      <td>406.315550</td>\n",
              "      <td>0.682811</td>\n",
              "      <td>3.56278</td>\n",
              "      <td>8.771495</td>\n",
              "    </tr>\n",
              "    <tr>\n",
              "      <th>min</th>\n",
              "      <td>1.000001e+07</td>\n",
              "      <td>1.900000</td>\n",
              "      <td>15.600000</td>\n",
              "      <td>19.190000</td>\n",
              "      <td>2.489680e+05</td>\n",
              "      <td>3643.000000</td>\n",
              "      <td>1.000000</td>\n",
              "      <td>18.000000</td>\n",
              "      <td>2000.000000</td>\n",
              "      <td>36.984000</td>\n",
              "      <td>2016.000000</td>\n",
              "      <td>1.00000</td>\n",
              "      <td>1.000000</td>\n",
              "    </tr>\n",
              "    <tr>\n",
              "      <th>25%</th>\n",
              "      <td>1.002062e+07</td>\n",
              "      <td>11.880000</td>\n",
              "      <td>195.527500</td>\n",
              "      <td>147.537000</td>\n",
              "      <td>6.314420e+05</td>\n",
              "      <td>12994.000000</td>\n",
              "      <td>11837.750000</td>\n",
              "      <td>25.000000</td>\n",
              "      <td>8289.750000</td>\n",
              "      <td>347.668800</td>\n",
              "      <td>2016.000000</td>\n",
              "      <td>3.00000</td>\n",
              "      <td>8.000000</td>\n",
              "    </tr>\n",
              "    <tr>\n",
              "      <th>50%</th>\n",
              "      <td>1.006761e+07</td>\n",
              "      <td>22.440000</td>\n",
              "      <td>369.005000</td>\n",
              "      <td>277.296000</td>\n",
              "      <td>9.429080e+05</td>\n",
              "      <td>25063.000000</td>\n",
              "      <td>26002.500000</td>\n",
              "      <td>33.000000</td>\n",
              "      <td>14625.500000</td>\n",
              "      <td>656.167800</td>\n",
              "      <td>2016.000000</td>\n",
              "      <td>6.00000</td>\n",
              "      <td>15.000000</td>\n",
              "    </tr>\n",
              "    <tr>\n",
              "      <th>75%</th>\n",
              "      <td>1.018023e+07</td>\n",
              "      <td>32.960000</td>\n",
              "      <td>562.922500</td>\n",
              "      <td>406.393200</td>\n",
              "      <td>1.339155e+06</td>\n",
              "      <td>127001.000000</td>\n",
              "      <td>39952.500000</td>\n",
              "      <td>42.000000</td>\n",
              "      <td>21022.000000</td>\n",
              "      <td>972.162400</td>\n",
              "      <td>2017.000000</td>\n",
              "      <td>9.00000</td>\n",
              "      <td>23.000000</td>\n",
              "    </tr>\n",
              "    <tr>\n",
              "      <th>max</th>\n",
              "      <td>1.043985e+07</td>\n",
              "      <td>48.000000</td>\n",
              "      <td>1993.830000</td>\n",
              "      <td>691.200000</td>\n",
              "      <td>8.405837e+06</td>\n",
              "      <td>302149.000000</td>\n",
              "      <td>60000.000000</td>\n",
              "      <td>65.000000</td>\n",
              "      <td>35000.000000</td>\n",
              "      <td>2629.958000</td>\n",
              "      <td>2018.000000</td>\n",
              "      <td>12.00000</td>\n",
              "      <td>31.000000</td>\n",
              "    </tr>\n",
              "  </tbody>\n",
              "</table>\n",
              "</div>"
            ],
            "text/plain": [
              "       Transaction ID  KM Travelled  ...        month           day\n",
              "count    4.614800e+04  46148.000000  ...  46148.00000  46148.000000\n",
              "mean     1.011302e+07     22.523476  ...      5.98793     15.481863\n",
              "std      1.156542e+05     12.257976  ...      3.56278      8.771495\n",
              "min      1.000001e+07      1.900000  ...      1.00000      1.000000\n",
              "25%      1.002062e+07     11.880000  ...      3.00000      8.000000\n",
              "50%      1.006761e+07     22.440000  ...      6.00000     15.000000\n",
              "75%      1.018023e+07     32.960000  ...      9.00000     23.000000\n",
              "max      1.043985e+07     48.000000  ...     12.00000     31.000000\n",
              "\n",
              "[8 rows x 13 columns]"
            ]
          },
          "metadata": {
            "tags": []
          },
          "execution_count": 53
        }
      ]
    },
    {
      "cell_type": "markdown",
      "metadata": {
        "id": "cWd8EUdCkTxh"
      },
      "source": [
        "**Visualize Data**"
      ]
    },
    {
      "cell_type": "markdown",
      "metadata": {
        "id": "z65822m1nbLI"
      },
      "source": [
        "1. **How does the profit of each company changed through the years?** \n"
      ]
    },
    {
      "cell_type": "code",
      "metadata": {
        "colab": {
          "base_uri": "https://localhost:8080/",
          "height": 295
        },
        "id": "l7abK4GNxQlZ",
        "outputId": "4c6c9faa-794d-423d-ba7a-2fcf0642ce65"
      },
      "source": [
        "data31=pd.pivot_table(data3,index='year',columns='Company' ,values='Profit' )\n",
        "data31.plot(marker='.')\n",
        "plt.xticks([2016,2017,2018])\n",
        "plt.ylabel('The Avreage of Profit')\n",
        "plt.title('The Change of the Profit Through the Years')\n",
        "plt.show()"
      ],
      "execution_count": 72,
      "outputs": [
        {
          "output_type": "display_data",
          "data": {
            "image/png": "[encoded data removed]",
            "text/plain": [
              "<Figure size 432x288 with 1 Axes>"
            ]
          },
          "metadata": {
            "tags": [],
            "needs_background": "light"
          }
        }
      ]
    },
    {
      "cell_type": "markdown",
      "metadata": {
        "id": "7q9iYNInT3ff"
      },
      "source": [
        "It is shown in the previous plot that the difference between the profit of the yellow cab and pink cab is huge.\n",
        "\n",
        "Also both companies faced a loss in profit after 2017."
      ]
    },
    {
      "cell_type": "markdown",
      "metadata": {
        "id": "Iiq63MzCU1NB"
      },
      "source": [
        "**2. Is there a difference of number of customers for each company based on gender?**"
      ]
    },
    {
      "cell_type": "code",
      "metadata": {
        "colab": {
          "base_uri": "https://localhost:8080/",
          "height": 321
        },
        "id": "dIhJwX9mYoIG",
        "outputId": "14da966b-4226-4141-f8b5-fb5d9db1c9d8"
      },
      "source": [
        "\n",
        "data31=pd.pivot_table(data3,index='Gender',columns='Company' ,values='Customer ID',aggfunc='count')\n",
        "data31.plot(kind='bar')\n",
        "plt.legend(loc='best')\n",
        "plt.ylabel('Number of Custumers')\n",
        "plt.title('Number of Customers for Each Company Based on Gender')\n",
        "plt.show()"
      ],
      "execution_count": 74,
      "outputs": [
        {
          "output_type": "display_data",
          "data": {
            "image/png": "[encoded data removed]",
            "text/plain": [
              "<Figure size 432x288 with 1 Axes>"
            ]
          },
          "metadata": {
            "tags": [],
            "needs_background": "light"
          }
        }
      ]
    },
    {
      "cell_type": "markdown",
      "metadata": {
        "id": "uwkrVvvgVwZi"
      },
      "source": [
        "As it is shown in the previous bar graph that there is no huge difference between the numbers of female and male customers for each company. \n",
        "\n",
        "However, the yellow cab have much more customers than the pink cab."
      ]
    },
    {
      "cell_type": "markdown",
      "metadata": {
        "id": "1ygmyXRHWtEK"
      },
      "source": [
        "**3. Is there a difference of the number of customers for each company based on age?**"
      ]
    },
    {
      "cell_type": "code",
      "metadata": {
        "id": "J2t6HGIX0EFQ",
        "colab": {
          "base_uri": "https://localhost:8080/",
          "height": 295
        },
        "outputId": "78e85c33-2f6f-4c0c-8aea-7c3ff28d0dba"
      },
      "source": [
        "data33=pd.pivot_table(data3,index='Company',columns='Catogrical Age' ,values='Customer ID' , aggfunc='count')\n",
        "\n",
        "data33.plot(kind='barh', stacked=True) \n",
        "plt.xlabel('Number of Custmers')\n",
        "plt.title('Number of Customers for Each Company Based on Age')\n",
        "plt.show()"
      ],
      "execution_count": 76,
      "outputs": [
        {
          "output_type": "display_data",
          "data": {
            "image/png": "[encoded data removed]",
            "text/plain": [
              "<Figure size 432x288 with 1 Axes>"
            ]
          },
          "metadata": {
            "tags": [],
            "needs_background": "light"
          }
        }
      ]
    },
    {
      "cell_type": "markdown",
      "metadata": {
        "id": "q5DScpa0XPGL"
      },
      "source": [
        "From the previous bar graph, it is shown that the category between 26-35 has the most number of customers in both companies.\n",
        "\n",
        "But again, the Yellow cab has the most number of customers."
      ]
    },
    {
      "cell_type": "markdown",
      "metadata": {
        "id": "l0RE0ncOb6Hl"
      },
      "source": [
        "**4. Which one of the companies have more reach to customers in different cities?**"
      ]
    },
    {
      "cell_type": "code",
      "metadata": {
        "colab": {
          "base_uri": "https://localhost:8080/",
          "height": 373
        },
        "id": "Wdu96Xwbaphh",
        "outputId": "ecb2a519-c8c8-45c4-8d22-108c93e4b249"
      },
      "source": [
        "data33=pd.pivot_table(data3,index='City',columns='Company' ,values='Customer ID' , aggfunc='count')\n",
        "data33.plot(kind='bar', stacked=True , width=0.8 )\n",
        "plt.legend(bbox_to_anchor=(1.05,1))\n",
        "plt.ylabel('Number of Customers')\n",
        "plt.title('The Distripution of Customers in Cities')\n",
        "plt.show()"
      ],
      "execution_count": 81,
      "outputs": [
        {
          "output_type": "display_data",
          "data": {
            "image/png": "[encoded data removed]",
            "text/plain": [
              "<Figure size 432x288 with 1 Axes>"
            ]
          },
          "metadata": {
            "tags": [],
            "needs_background": "light"
          }
        }
      ]
    },
    {
      "cell_type": "markdown",
      "metadata": {
        "id": "eZmKil4gcvyj"
      },
      "source": [
        "It is shown from previous bar chart that in general the yellow cab have more reach of customers.\n",
        "\n",
        "Although, it is shown that the pink cab has the highest reach of customers in some cities such as Nashville, San diego and Pittsburgh. \n",
        "\n",
        "And the lowest reach in Washington and New york."
      ]
    },
    {
      "cell_type": "markdown",
      "metadata": {
        "id": "vNSsD0JxgZWs"
      },
      "source": [
        "**5. Does the KM Travelled Affected the Profit for Each Company?**"
      ]
    },
    {
      "cell_type": "code",
      "metadata": {
        "colab": {
          "base_uri": "https://localhost:8080/",
          "height": 573
        },
        "id": "niru_sYh5QJv",
        "outputId": "8fa87c6f-b4ef-4901-eafe-aa3cd8e38a6a"
      },
      "source": [
        "data33=pd.pivot_table(data3,index='Company',columns='Categrocial KM Travelled' ,values='Customer ID' , aggfunc='count')\n",
        "data33.plot(kind='barh', stacked=True)\n",
        "plt.legend(bbox_to_anchor=(1.05,1))\n",
        "plt.xlabel('Number of Cutomers')\n",
        "plt.title('The Distripution of Customers in Each KM Category')\n",
        "\n",
        "data33=pd.pivot_table(data3,index='Company',columns='Categrocial KM Travelled' ,values='Profit' , aggfunc='mean')\n",
        "data33.plot(kind='barh', stacked=True)\n",
        "plt.legend(bbox_to_anchor=(1.05,1))\n",
        "plt.xlabel('The Average of Profit')\n",
        "plt.title('The Average of Profit Gained from Each KM Category')\n",
        "\n",
        "plt.show()"
      ],
      "execution_count": 95,
      "outputs": [
        {
          "output_type": "display_data",
          "data": {
            "image/png": "[encoded data removed]",
            "text/plain": [
              "<Figure size 432x288 with 1 Axes>"
            ]
          },
          "metadata": {
            "tags": [],
            "needs_background": "light"
          }
        },
        {
          "output_type": "display_data",
          "data": {
            "image/png": "[encoded data removed]",
            "text/plain": [
              "<Figure size 432x288 with 1 Axes>"
            ]
          },
          "metadata": {
            "tags": [],
            "needs_background": "light"
          }
        }
      ]
    },
    {
      "cell_type": "markdown",
      "metadata": {
        "id": "v48p3s7MaoxV"
      },
      "source": [
        "As it is shown in the previous bar chart even though the numbers of customers that travelled more than 40 KM is the least but the profit gained from these trips was the highest in both companies."
      ]
    },
    {
      "cell_type": "markdown",
      "metadata": {
        "id": "rgaDhe_rjZ-X"
      },
      "source": [
        "**To summarize :**\n",
        "\n",
        "\n",
        "*  In the profit comparison troughout the years the yellow cab had the highest profit in all years.\n",
        "\n",
        "*   The yellow cab had the highest numbers of customers based on gender, age and their distripution in US cities.\n",
        "\n",
        "**Our Recommendation :** the best investment for your company is going to be the yellow cab\n",
        "\n"
      ]
    }
  ]
}